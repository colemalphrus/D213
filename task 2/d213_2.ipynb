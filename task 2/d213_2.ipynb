{
 "cells": [
  {
   "cell_type": "markdown",
   "source": [
    "# D213 Task 1 Advanced Data Analytics\n",
    "\n",
    "## Part 1\n",
    "\n",
    "### A1: Research Question and Data Selection\n",
    "\n",
    "Research Question:\n",
    "Is it possible to at accurately determine customer sentiment from a customers review utilizing Natural language processing and nural networks?\n",
    "\n",
    "Data and Rational:\n",
    "The data that will be used for this analysis is \"sentiment labeled sentences\" dataset which can be found at the link bellow. This data set provides a sentence representing a review along with a label of 1 or 0 indicating a positive or negative sentiment respectively\n",
    "\n",
    "\n",
    "https://archive.ics.uci.edu/dataset/331/sentiment+labelled+sentences\n",
    "\n",
    "### A2: Objectives\n",
    "\n",
    "The objective of this analysis is to determine the feasibility of using a natural language processing neural network to determine a customers sentiment based on a review. The determination of feasibility will be made by creating a NLP model using Tensorflow. The objective of this model is to be able to take in the review text data and determine if the review has a positive or negative sentiment. \n",
    "\n",
    "### A3: Neural Network Type\n",
    "\n",
    "# TODO"
   ],
   "metadata": {
    "collapsed": false
   },
   "id": "7a432f0908da7590"
  },
  {
   "cell_type": "markdown",
   "source": [
    "## Part 2\n",
    "\n",
    "### B1: Data Exploration\n",
    "\n"
   ],
   "metadata": {
    "collapsed": false
   },
   "id": "d804fcb64e734f34"
  },
  {
   "cell_type": "code",
   "execution_count": 16,
   "outputs": [],
   "source": [
    "import pandas as pd\n",
    "import numpy as np"
   ],
   "metadata": {
    "collapsed": false,
    "ExecuteTime": {
     "end_time": "2023-09-24T02:55:37.771967Z",
     "start_time": "2023-09-24T02:55:37.762137Z"
    }
   },
   "id": "5abee81299e7824a"
  },
  {
   "cell_type": "code",
   "execution_count": 17,
   "outputs": [
    {
     "name": "stdout",
     "output_type": "stream",
     "text": [
      "Amazon Count: 1000\n",
      "IMDB Count: 748\n",
      "Yelp Count: 1000\n"
     ]
    },
    {
     "data": {
      "text/plain": "                                              review  score source\n0  So there is no way for me to plug it in here i...      0    amz\n1                        Good case, Excellent value.      1    amz\n2                             Great for the jawbone.      1    amz\n3  Tied to charger for conversations lasting more...      0    amz\n4                                  The mic is great.      1    amz",
      "text/html": "<div>\n<style scoped>\n    .dataframe tbody tr th:only-of-type {\n        vertical-align: middle;\n    }\n\n    .dataframe tbody tr th {\n        vertical-align: top;\n    }\n\n    .dataframe thead th {\n        text-align: right;\n    }\n</style>\n<table border=\"1\" class=\"dataframe\">\n  <thead>\n    <tr style=\"text-align: right;\">\n      <th></th>\n      <th>review</th>\n      <th>score</th>\n      <th>source</th>\n    </tr>\n  </thead>\n  <tbody>\n    <tr>\n      <th>0</th>\n      <td>So there is no way for me to plug it in here i...</td>\n      <td>0</td>\n      <td>amz</td>\n    </tr>\n    <tr>\n      <th>1</th>\n      <td>Good case, Excellent value.</td>\n      <td>1</td>\n      <td>amz</td>\n    </tr>\n    <tr>\n      <th>2</th>\n      <td>Great for the jawbone.</td>\n      <td>1</td>\n      <td>amz</td>\n    </tr>\n    <tr>\n      <th>3</th>\n      <td>Tied to charger for conversations lasting more...</td>\n      <td>0</td>\n      <td>amz</td>\n    </tr>\n    <tr>\n      <th>4</th>\n      <td>The mic is great.</td>\n      <td>1</td>\n      <td>amz</td>\n    </tr>\n  </tbody>\n</table>\n</div>"
     },
     "execution_count": 17,
     "metadata": {},
     "output_type": "execute_result"
    }
   ],
   "source": [
    "# Extract data\n",
    "amazon_df = pd.read_csv('./data/amazon_cells_labelled.txt', sep='\\t', names=['review', 'score'])\n",
    "imdb_df = pd.read_csv('./data/imdb_labelled.txt', sep='\\t', names=['review', 'score'])\n",
    "yelp_df = pd.read_csv('./data/yelp_labelled.txt', sep='\\t', names=['review', 'score'])\n",
    "\n",
    "print(f'Amazon Count: {amazon_df.shape[0]}')\n",
    "print(f'IMDB Count: {imdb_df.shape[0]}')\n",
    "print(f'Yelp Count: {yelp_df.shape[0]}')\n",
    "\n",
    "# Label Data Source\n",
    "amazon_df['source'] = 'amz'\n",
    "imdb_df['source'] = 'imdb'\n",
    "yelp_df['source'] = 'yelp'\n",
    "\n",
    "# Join Dataframes \n",
    "df = pd.concat([amazon_df, imdb_df, yelp_df], ignore_index=True)\n",
    "df.head()"
   ],
   "metadata": {
    "collapsed": false,
    "ExecuteTime": {
     "end_time": "2023-09-24T02:55:37.790484Z",
     "start_time": "2023-09-24T02:55:37.768748Z"
    }
   },
   "id": "6129db4b8935b16a"
  },
  {
   "cell_type": "code",
   "execution_count": 18,
   "outputs": [
    {
     "name": "stdout",
     "output_type": "stream",
     "text": [
      "<class 'pandas.core.frame.DataFrame'>\n",
      "RangeIndex: 2748 entries, 0 to 2747\n",
      "Data columns (total 3 columns):\n",
      " #   Column  Non-Null Count  Dtype \n",
      "---  ------  --------------  ----- \n",
      " 0   review  2748 non-null   object\n",
      " 1   score   2748 non-null   int64 \n",
      " 2   source  2748 non-null   object\n",
      "dtypes: int64(1), object(2)\n",
      "memory usage: 64.5+ KB\n"
     ]
    }
   ],
   "source": [
    "df.info()"
   ],
   "metadata": {
    "collapsed": false,
    "ExecuteTime": {
     "end_time": "2023-09-24T02:55:37.820836Z",
     "start_time": "2023-09-24T02:55:37.796596Z"
    }
   },
   "id": "2bb5843d8a8d76fd"
  },
  {
   "cell_type": "code",
   "execution_count": null,
   "outputs": [],
   "source": [],
   "metadata": {
    "collapsed": false
   },
   "id": "e0e65b8e22eaaa59"
  },
  {
   "cell_type": "code",
   "execution_count": null,
   "outputs": [],
   "source": [],
   "metadata": {
    "collapsed": false
   },
   "id": "530926871244443c"
  },
  {
   "cell_type": "code",
   "execution_count": null,
   "outputs": [],
   "source": [],
   "metadata": {
    "collapsed": false
   },
   "id": "1a5bf26dffcdeeaa"
  }
 ],
 "metadata": {
  "kernelspec": {
   "display_name": "Python 3",
   "language": "python",
   "name": "python3"
  },
  "language_info": {
   "codemirror_mode": {
    "name": "ipython",
    "version": 2
   },
   "file_extension": ".py",
   "mimetype": "text/x-python",
   "name": "python",
   "nbconvert_exporter": "python",
   "pygments_lexer": "ipython2",
   "version": "2.7.6"
  }
 },
 "nbformat": 4,
 "nbformat_minor": 5
}
