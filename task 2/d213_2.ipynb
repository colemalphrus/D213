{
 "cells": [
  {
   "cell_type": "markdown",
   "source": [
    "# D213 Task 1 Advanced Data Analytics\n",
    "\n",
    "## Part 1\n",
    "\n",
    "### A1: Research Question and Data Selection\n",
    "\n",
    "Research Question:\n",
    "Is it possible to at accurately determine customer sentiment from a customers review utilizing Natural language processing and nural networks?\n",
    "\n",
    "Data and Rational:\n",
    "The data that will be used for this analysis is \"sentiment labeled sentences\" dataset which can be found at the link bellow. This data set provides a sentence representing a review along with a label of 1 or 0 indicating a positive or negative sentiment respectively\n",
    "\n",
    "\n",
    "https://archive.ics.uci.edu/dataset/331/sentiment+labelled+sentences\n",
    "\n",
    "### A2: Objectives\n",
    "\n",
    "The objective of this analysis is to determine the feasibility of using a natural language processing neural network to determine a customers sentiment based on a review. The determination of feasibility will be made by creating a NLP model using Tensorflow. The objective of this model is to be able to take in the review text data and determine if the review has a positive or negative sentiment. \n",
    "\n",
    "### A3: Neural Network Type\n",
    "\n",
    "# TODO"
   ],
   "metadata": {
    "collapsed": false
   },
   "id": "7a432f0908da7590"
  },
  {
   "cell_type": "markdown",
   "source": [
    "## Part 2\n",
    "\n",
    "### B1: Data Exploration\n",
    "\n"
   ],
   "metadata": {
    "collapsed": false
   },
   "id": "d804fcb64e734f34"
  },
  {
   "cell_type": "code",
   "execution_count": 66,
   "outputs": [],
   "source": [
    "import pandas as pd\n",
    "import numpy as np\n",
    "from sklearn.feature_extraction.text import CountVectorizer"
   ],
   "metadata": {
    "collapsed": false,
    "ExecuteTime": {
     "end_time": "2023-09-24T03:27:59.225508Z",
     "start_time": "2023-09-24T03:27:59.220368Z"
    }
   },
   "id": "5abee81299e7824a"
  },
  {
   "cell_type": "code",
   "execution_count": 67,
   "outputs": [
    {
     "name": "stdout",
     "output_type": "stream",
     "text": [
      "Amazon Count: 1000\n",
      "IMDB Count: 1000\n",
      "Yelp Count: 1000\n"
     ]
    },
    {
     "data": {
      "text/plain": "                                              review  score source\n0  So there is no way for me to plug it in here i...      0    amz\n1                        Good case, Excellent value.      1    amz\n2                             Great for the jawbone.      1    amz\n3  Tied to charger for conversations lasting more...      0    amz\n4                                  The mic is great.      1    amz",
      "text/html": "<div>\n<style scoped>\n    .dataframe tbody tr th:only-of-type {\n        vertical-align: middle;\n    }\n\n    .dataframe tbody tr th {\n        vertical-align: top;\n    }\n\n    .dataframe thead th {\n        text-align: right;\n    }\n</style>\n<table border=\"1\" class=\"dataframe\">\n  <thead>\n    <tr style=\"text-align: right;\">\n      <th></th>\n      <th>review</th>\n      <th>score</th>\n      <th>source</th>\n    </tr>\n  </thead>\n  <tbody>\n    <tr>\n      <th>0</th>\n      <td>So there is no way for me to plug it in here i...</td>\n      <td>0</td>\n      <td>amz</td>\n    </tr>\n    <tr>\n      <th>1</th>\n      <td>Good case, Excellent value.</td>\n      <td>1</td>\n      <td>amz</td>\n    </tr>\n    <tr>\n      <th>2</th>\n      <td>Great for the jawbone.</td>\n      <td>1</td>\n      <td>amz</td>\n    </tr>\n    <tr>\n      <th>3</th>\n      <td>Tied to charger for conversations lasting more...</td>\n      <td>0</td>\n      <td>amz</td>\n    </tr>\n    <tr>\n      <th>4</th>\n      <td>The mic is great.</td>\n      <td>1</td>\n      <td>amz</td>\n    </tr>\n  </tbody>\n</table>\n</div>"
     },
     "execution_count": 67,
     "metadata": {},
     "output_type": "execute_result"
    }
   ],
   "source": [
    "# Extract data\n",
    "amazon_df = pd.read_csv('./data/amazon_cells_labelled.txt', sep='\\t', names=['review', 'score'])\n",
    "imdb_df = pd.read_csv('./data/imdb_labelled.txt', sep='\\t', names=['review', 'score'])\n",
    "yelp_df = pd.read_csv('./data/yelp_labelled.txt', sep='\\t', names=['review', 'score'])\n",
    "\n",
    "print(f'Amazon Count: {amazon_df.shape[0]}')\n",
    "print(f'IMDB Count: {imdb_df.shape[0]}')\n",
    "print(f'Yelp Count: {yelp_df.shape[0]}')\n",
    "\n",
    "# Label Data Source\n",
    "amazon_df['source'] = 'amz'\n",
    "imdb_df['source'] = 'imdb'\n",
    "yelp_df['source'] = 'yelp'\n",
    "\n",
    "# Join Dataframes \n",
    "df = pd.concat([amazon_df, imdb_df, yelp_df], ignore_index=True)\n",
    "df.head()"
   ],
   "metadata": {
    "collapsed": false,
    "ExecuteTime": {
     "end_time": "2023-09-24T03:27:59.244607Z",
     "start_time": "2023-09-24T03:27:59.226821Z"
    }
   },
   "id": "6129db4b8935b16a"
  },
  {
   "cell_type": "code",
   "execution_count": 68,
   "outputs": [
    {
     "name": "stdout",
     "output_type": "stream",
     "text": [
      "<class 'pandas.core.frame.DataFrame'>\n",
      "RangeIndex: 3000 entries, 0 to 2999\n",
      "Data columns (total 3 columns):\n",
      " #   Column  Non-Null Count  Dtype \n",
      "---  ------  --------------  ----- \n",
      " 0   review  3000 non-null   object\n",
      " 1   score   3000 non-null   int64 \n",
      " 2   source  3000 non-null   object\n",
      "dtypes: int64(1), object(2)\n",
      "memory usage: 70.4+ KB\n"
     ]
    }
   ],
   "source": [
    "df.info()"
   ],
   "metadata": {
    "collapsed": false,
    "ExecuteTime": {
     "end_time": "2023-09-24T03:27:59.249033Z",
     "start_time": "2023-09-24T03:27:59.240647Z"
    }
   },
   "id": "2bb5843d8a8d76fd"
  },
  {
   "cell_type": "code",
   "execution_count": 73,
   "outputs": [
    {
     "name": "stdout",
     "output_type": "stream",
     "text": [
      "Vocabulary size: 5284\n"
     ]
    }
   ],
   "source": [
    "# Vocabulary Size\n",
    "vectorizer = CountVectorizer()\n",
    "X = vectorizer.fit_transform(df['review'])\n",
    "vocab_size = len(vectorizer.get_feature_names_out())\n",
    "\n",
    "print(f\"Vocabulary size: {vocab_size}\")"
   ],
   "metadata": {
    "collapsed": false,
    "ExecuteTime": {
     "end_time": "2023-09-24T03:28:35.254370Z",
     "start_time": "2023-09-24T03:28:35.219977Z"
    }
   },
   "id": "530926871244443c"
  },
  {
   "cell_type": "code",
   "execution_count": 72,
   "outputs": [
    {
     "data": {
      "text/plain": "{'',\n 'earbud',\n 'snider',\n 'fuzzy',\n 'logic',\n 'babysitting',\n 'away',\n 'apart',\n 'thoughtprovoking',\n 'main',\n 'obliged',\n 'dualpurpose',\n 'tots',\n 'true',\n 'strong',\n 'list',\n 'caring',\n 'informative',\n 'believe',\n 'summarize',\n 'unless',\n 'replacementr',\n 'too',\n 'option',\n 'theres',\n 'running',\n 'them',\n 'thus',\n 'ngage',\n 'vandiver',\n 'wartime',\n 'comparablypriced',\n 'haggis',\n 'nicolas',\n 'hadnt',\n 'mother',\n 'adapter',\n 'navigate',\n 'designed',\n 'combo',\n 'sum',\n 'unfortunate',\n 'seated',\n 'pleather',\n 'senior',\n 'gore',\n 'brainsucking',\n 'corny',\n 'applifies',\n 'crawfish',\n 'shallow',\n 'seuss',\n 'customers',\n 'including',\n 'possibility',\n 'arguing',\n 'costcos',\n 'intentions',\n 'dishes',\n 'livingworking',\n 'ultracheap',\n 'intended',\n 'offers',\n 'cardboard',\n 'underbite',\n 'headphones',\n 'basically',\n 'prelude',\n 'warranty',\n 'park',\n 'exquisite',\n 'appealing',\n 'occasions',\n 'essentially',\n 'talent',\n 'died',\n 'when',\n 'gives',\n 'veggitarian',\n 'comedic',\n 'holds',\n 'sack',\n 'cando',\n 'sever',\n 'number',\n 'money',\n 'okay',\n 'problem',\n 'sphere',\n 'then',\n 'brownish',\n 'ratings',\n 'pricing',\n 'seasoning',\n 'hankering',\n 'transmitters',\n 'ramseys',\n 'egg',\n 'hasnt',\n 'favourite',\n 'arts',\n 'has',\n 'wired',\n 'credits',\n 'energy',\n 'errors',\n 'hi',\n 'scratch',\n 'local',\n 'item',\n 'undertone',\n 'must',\n 'feeling',\n 'not',\n 'hang',\n 'babbling',\n 'paying',\n 'grill',\n 'latest',\n 'through',\n 'practically',\n 'look',\n 'sci',\n 'wasnt',\n 'usb',\n 'reversestereotypes',\n 'gyros',\n 'sunglasses',\n 'monolog',\n 'fondue',\n 'solidify',\n 'word',\n 'fest',\n 'vegetables',\n 'colorful',\n 'laughable',\n 'fishnet',\n 'riveted',\n 'foodservice',\n 'firehouse',\n 'allison',\n 'doing',\n 'luke',\n 'thanks',\n 'monstrous',\n 'try',\n 'aside',\n 'venture',\n 'groundbreaking',\n 'prevents',\n 'marred',\n 'surf',\n 'smoothies',\n 'chick',\n 'repeating',\n 'timeframe',\n 'decorated',\n 'mostly',\n 'brilliantly',\n 'stuff',\n 'evaluate',\n 'wit',\n 'puff',\n 'sun',\n 'intensity',\n 'skilled',\n 'burrittos',\n 'greens',\n 'slices',\n 'unwelcome',\n 'forgettable',\n 'workingeating',\n 'mall',\n 'thrillers',\n 'salty',\n 'enterprise',\n 'stays',\n 'signals',\n 'dollars',\n 'clear',\n 'mile',\n 'deeply',\n 'hat',\n 'forced',\n 'pulls',\n 'flimsy',\n 'ear',\n 'chalkboard',\n 'megapixels',\n 'corporation',\n 'discomfort',\n 'hurt',\n 'bussell',\n 'confuses',\n 'remotely',\n 'fields',\n 'tightly',\n 'mouths',\n 'wont',\n 'wellit',\n 'latterday',\n 'closeup',\n 'mentioned',\n 'cardellini',\n 'speakerphone',\n 'integrated',\n 'menace',\n 'reviewing',\n 'station',\n 'rolls',\n 'doctor',\n 'hip',\n 'clearly',\n 'generally',\n 'couldnt',\n 'topic',\n 'stoic',\n 'ok',\n 'wordofmouth',\n 'raspberry',\n 'distressed',\n 'bread',\n 'angles',\n 'dusted',\n 'within',\n 'pasta',\n 'bland',\n 'football',\n 'chocolate',\n 'cents',\n 'nonresearched',\n 'embarrassing',\n 'out',\n 'frozen',\n 'honestly',\n 'hoffmans',\n 'witnessed',\n 'positive',\n 'far',\n 'sprouts',\n 'cafe',\n 'prepared',\n 'disneypixars',\n 'thoughtsgabriels',\n 'shes',\n 'mollusk',\n 'building',\n 'laselva',\n 'wornout',\n 'rude',\n 'tungsten',\n 'practical',\n 'applause',\n 'sweetest',\n 'saffron',\n 'screenplay',\n 'centers',\n 'faultless',\n 'built',\n 'dads',\n 'emotionally',\n 'team',\n 'menu',\n 'legendary',\n 'standard',\n 'somehow',\n 'connoisseur',\n 'anymore',\n 'mesquite',\n 'succeeded',\n 'ends',\n 'heres',\n 'sensor',\n 'replacement',\n 'sobaditsmemorable',\n 'short',\n 'drinks',\n 'roeg',\n 'sea',\n 'baxendale',\n 'lust',\n 'sensibility',\n 'grates',\n 'satifying',\n 'courtroom',\n 'daughter',\n 'lettuce',\n 'sketchy',\n 'shrimp',\n 'shelf',\n 'recieve',\n 'done',\n 'involving',\n 'reverse',\n 'lc',\n 'text',\n 'gone',\n 'lukewarm',\n 'content',\n 'deal',\n 'meatballs',\n 'peaking',\n 'wines',\n 'decay',\n 'stories',\n 'duethe',\n 'should',\n 'two',\n 'cant',\n 'begin',\n 'outdoor',\n 'interest',\n 'sadly',\n 'cashier',\n 'puree',\n 'mary',\n 'voyage',\n 'moving',\n 'showthese',\n 'foxs',\n 'sushi',\n 'follow',\n 'dinner',\n 'trimmed',\n 'some',\n 'outlet',\n 'production',\n 'stated',\n 'noticed',\n 'hinge',\n 'girlfriend',\n 'gimmick',\n 'coppolas',\n 'strike',\n 'scenery',\n 'friendly',\n 'factor',\n 'estevez',\n 'really',\n 'fingers',\n 'powerful',\n 'silently',\n 'over',\n 'elsewhere',\n 'onscreen',\n 'unfortunately',\n 'which',\n 'sick',\n 'classical',\n 'craving',\n 'soup',\n 'day',\n 'conflict',\n 'grease',\n 'capers',\n 'problemsthe',\n 'bonuses',\n 'brought',\n 'handmade',\n 'sals',\n 'squibs',\n 'mushroom',\n 'fond',\n 'fixes',\n 'days',\n 'view',\n 'frightening',\n 'fleshed',\n 'miniusb',\n 'thunderbirds',\n 'reflected',\n 'runs',\n 'spots',\n 'rather',\n 'wife',\n 'baba',\n 'girlfriends',\n 'donut',\n 'transfer',\n 'twist',\n 'hook',\n 'others',\n 'muddled',\n 'tensions',\n 'knocked',\n 'artistic',\n 'subgenre',\n 'mebunch',\n 'cingular',\n 'lassie',\n 'drunk',\n 'superficial',\n 'functions',\n 'mess',\n 'notch',\n 'heard',\n 'pulled',\n 'hellish',\n 'last',\n 'hoursthe',\n 'gx',\n 'disaster',\n 'blow',\n 'seeing',\n 'satisfied',\n 'unconvincing',\n 'detailing',\n 'schoolers',\n 'terrific',\n 'crazy',\n 'jonah',\n 'smelled',\n 'steak',\n 'periodically',\n 'complaints',\n 'incredible',\n 'power',\n 'relationship',\n 'spacek',\n 'suddenly',\n 'received',\n 'theyre',\n 'dramatic',\n 'hands',\n 'killings',\n 'timing',\n 'produced',\n 'wellpaced',\n 'hybrid',\n 'filmmostly',\n 'asking',\n 'ford',\n 'long',\n 'bamboo',\n 'sits',\n 'identifies',\n 'brigand',\n 'drain',\n 'timeless',\n 'edible',\n 'profiterole',\n 'pc',\n 'edition',\n 'herewhat',\n 'loyalty',\n 'next',\n 'overhaul',\n 'john',\n 'afraid',\n 'net',\n 'turn',\n 'backlight',\n 'members',\n 'years',\n 'right',\n 'began',\n 'potatoes',\n 'configuration',\n 'instant',\n 'perpared',\n 'situations',\n 'busy',\n 'footage',\n 'panna',\n 'nightmare',\n 'horrorsuspense',\n 'admins',\n 'most',\n 'ways',\n 'decent',\n 'joyces',\n 'ca',\n 'threepack',\n 'presents',\n 'electronics',\n 'encourage',\n 'spot',\n 'instruction',\n 'system',\n 'lineanother',\n 'yawn',\n 'wide',\n 'wouldve',\n 'thinking',\n 'cotta',\n 'akasha',\n 'chance',\n 'robert',\n 'longwearing',\n 'rock',\n 'eyepleasing',\n 'scrimm',\n 'network',\n 'zero',\n 'irritating',\n 'sobaditsgood',\n 'all',\n 'subversive',\n 'listening',\n 'cingularatt',\n 'journey',\n 'woo',\n 'fodder',\n 'films',\n 'metro',\n 'shocking',\n 'muddy',\n 'earpieces',\n 'martini',\n 'ridiculous',\n 'bargain',\n 'abhor',\n 'minutes',\n 'everything',\n 'watsons',\n 'tip',\n 'consumer',\n 'dime',\n 'taylor',\n 'event',\n 'portions',\n 'jobs',\n 'calamari',\n 'pizza',\n 'downs',\n 'needshandsfree',\n 'continuity',\n 'more',\n 'actual',\n 'sydney',\n 'round',\n 'stereo',\n 'replaceeasy',\n 'bells',\n 'following',\n 'culture',\n 'degree',\n 'salmon',\n 'played',\n 'additional',\n 'gloveseverything',\n 'knightley',\n 'lifeoh',\n 'wih',\n 'sensitivities',\n 'contract',\n 'reccommend',\n 'partaking',\n 'warts',\n 'vegas',\n 'nay',\n 'melville',\n 'studio',\n 'schrader',\n 'marbles',\n 'dozens',\n 'macbeth',\n 'photography',\n 'official',\n 'dos',\n 'prepare',\n 'recently',\n 'established',\n 'sappiest',\n 'game',\n 'elaborately',\n 'mom',\n 'geeky',\n 'dessert',\n 'falls',\n 'listed',\n 'unit',\n 'skype',\n 'writers',\n 'politics',\n 'pumpkin',\n 'unpleasant',\n 'wrongfirst',\n 'improved',\n 'stood',\n 'sending',\n 'dribble',\n 'returned',\n 'microsoft',\n 'deliver',\n 'fun',\n 'composed',\n 'fabulous',\n 'earphones',\n 'paul',\n 'rests',\n 'lover',\n 'achille',\n 'google',\n 'nuts',\n 'ussr',\n 'exceptionally',\n 'catchy',\n 'mgm',\n 'jamie',\n 'yardley',\n 'publicly',\n 'jx',\n 'inconsiderate',\n 'neat',\n 'strip',\n 'pens',\n 'boring',\n 'overhip',\n 'paolo',\n 'soul',\n 'although',\n 'are',\n 'videos',\n 'drive',\n 'shirt',\n 'difficult',\n 'acclaimed',\n 'hitchcocks',\n 'success',\n 'hype',\n 'jaclyn',\n 'moves',\n 'moods',\n 'original',\n 'become',\n 'bible',\n 'sucker',\n 'bother',\n 'adventure',\n 'speaking',\n 'changes',\n 'fee',\n 'combination',\n 'gourmet',\n 'fx',\n 'receive',\n 'latin',\n 'valley',\n 'supposed',\n 'wooden',\n 'guacamole',\n 'forgetting',\n 'giallo',\n 'overall',\n 'interior',\n 'unacceptible',\n 'contain',\n 'noises',\n 'disapoinment',\n 'perfectly',\n 'install',\n 'mobile',\n 'whose',\n 'tremendous',\n 'compelling',\n 'uninspired',\n 'throughout',\n 'tasty',\n 'unwatchable',\n 'tears',\n 'tony',\n 'healthy',\n 'rick',\n 'definately',\n 'idea',\n 'find',\n 'pros',\n 'min',\n 'murky',\n 'surroundings',\n 'shined',\n 'breaks',\n 'flavored',\n 'ians',\n 'linked',\n 'hell',\n 'unexperienced',\n 'rice',\n 'chosen',\n 'scripts',\n 'allows',\n 'fruit',\n 'diaper',\n 'elses',\n 'smoking',\n 'w',\n 'miyazakis',\n 'meaning',\n 'perfected',\n 'wrotedirected',\n 'keeps',\n 'jimmy',\n 'where',\n 'purity',\n 'relation',\n 'luck',\n 'silent',\n 'infatuated',\n 'individual',\n 'seafood',\n 'recommended',\n 'flag',\n 'inhouse',\n 'the',\n 'dropped',\n 'heimer',\n 'forward',\n 'delete',\n 'ingredients',\n 'sause',\n 'palmtopcameracellphone',\n 'memorized',\n 'endlessly',\n 'change',\n 'styles',\n 'imdb',\n 'sitdown',\n 'humorous',\n 'three',\n 'consistent',\n 'lasting',\n 'everywhere',\n 'insulin',\n 'shipped',\n 'finds',\n 'boiled',\n 'florida',\n 'leaks',\n 'torture',\n 'represents',\n 'anticipated',\n 'process',\n 'surrounding',\n 'trash',\n 'definitly',\n 'normally',\n 'joint',\n 'connection',\n 'area',\n 'thru',\n 'greasy',\n 'lightweight',\n 'added',\n 'sundays',\n 'reach',\n 'essence',\n 'made',\n 'menacing',\n 'reactions',\n 'prime',\n 'a',\n 'subtitles',\n 'scared',\n 'saved',\n 'watkins',\n 'similar',\n 'different',\n 'forgot',\n 'totally',\n 'myself',\n 'resume',\n 'todays',\n 'shooters',\n 'hereas',\n 'services',\n 'kindle',\n 'skimp',\n 'wonder',\n 'toons',\n 'blows',\n 'scottsdale',\n 'dinners',\n 'artiness',\n 'snug',\n 'stream',\n 'badly',\n 'relaxed',\n 'peanuts',\n 'currently',\n 'tucson',\n 'beauty',\n 'schilling',\n 'suffered',\n 'section',\n 'pepper',\n 'am',\n 'hopes',\n 'pissd',\n 'horror',\n 'witticisms',\n 'painted',\n 'ironically',\n 'weve',\n 'comments',\n 'excalibur',\n 'mains',\n 'actresses',\n 'brevity',\n 'walkman',\n 'games',\n 'insomniacs',\n 'simmering',\n 'colder',\n 'biographical',\n 'guys',\n 'desert',\n 'budget',\n 'clients',\n 'people',\n 'light',\n 'misplace',\n 'completely',\n 'restocking',\n 'starlet',\n 'toast',\n 'outlets',\n 'media',\n 'voodoo',\n 'accompanied',\n 'connery',\n 'life',\n 'mouse',\n 'bus',\n 'surprised',\n 'smudged',\n 'seasoned',\n 'ps',\n 'ive',\n 'ugliest',\n 'cinematographers',\n 'flip',\n 'smith',\n 'material',\n 'realized',\n 'dressing',\n 'small',\n 'eventually',\n 'crowds',\n 'att',\n 'outrageously',\n 'prejudice',\n 'classics',\n 'fav',\n 'seperated',\n 'phone',\n 'hearing',\n 'posted',\n 'entrance',\n 'howe',\n 'seconds',\n 'helps',\n 'crocs',\n 'airport',\n 'originality',\n 'provides',\n 'mail',\n 'interesting',\n 'ths',\n 'players',\n 'homemade',\n 'unlike',\n 'dangerous',\n 'superlative',\n 'instantly',\n 'pizzas',\n 'forces',\n 'sucked',\n 'rough',\n 'evil',\n 'young',\n 'stunning',\n 'phantasm',\n 'hooked',\n 'stereotypes',\n 'burger',\n 'mmmm',\n 'amazing',\n 'tiny',\n 'unethical',\n 'tries',\n 'dee',\n 'securely',\n 'cash',\n 'moments',\n 'revisiting',\n 'bloddy',\n 'emotions',\n 'quick',\n 'simplifying',\n 'teen',\n 'stress',\n 'ninja',\n 'stephen',\n 'simple',\n 'eve',\n 'at',\n 'register',\n 'meatloaf',\n 'pricey',\n 'sophisticated',\n 'hustons',\n 'stopped',\n 'masterful',\n 'horrified',\n 'spoil',\n 'caught',\n 'taylors',\n 'multiple',\n 'occupied',\n 'mp',\n 'many',\n 'convey',\n 'aimless',\n 'goldencrispy',\n 'amazingrge',\n 'depicted',\n 'calligraphy',\n 'boost',\n 'droid',\n 'screams',\n 'painful',\n 'juice',\n 'croutons',\n 'nurse',\n 'badwellits',\n 'expanded',\n 'embedded',\n 'follows',\n 'passion',\n 'pap',\n 'background',\n 'breakage',\n 'perfection',\n 'contrived',\n 'jawbone',\n 'justice',\n 'description',\n 'celebrity',\n 'dull',\n 'actions',\n 'reaching',\n 'thomerson',\n 'bigbudget',\n 'indication',\n 'suffers',\n 'award',\n 'strings',\n 'and',\n 'wound',\n 'article',\n 'trainroller',\n 'matrix',\n 'lg',\n 'soft',\n 'foreign',\n 'price',\n 'hero',\n 'attempt',\n 'medium',\n 'ballet',\n 'facial',\n 'tracking',\n 'rocked',\n 'decided',\n 'san',\n 'titta',\n 'package',\n 'vibe',\n 'tenders',\n 'rumbles',\n 'convention',\n 'coffee',\n 'affleck',\n 'indian',\n 'medical',\n 'venue',\n 'script',\n 'plays',\n 'tepid',\n 'fare',\n 'bergens',\n 'alot',\n 'loudglad',\n 'offering',\n 'hurry',\n 'facing',\n 'preparing',\n 'clothes',\n 'assante',\n 'sole',\n 'appetizer',\n 'down',\n 'excelent',\n 'ones',\n 'trunk',\n 'muppets',\n 'gallon',\n 'accessible',\n 'sorrentino',\n ...}"
     },
     "execution_count": 72,
     "metadata": {},
     "output_type": "execute_result"
    }
   ],
   "source": [
    "# unique = set(df['review'].str.replace('[^a-zA-Z]', '').str.lower().str.split(' ').sum())\n",
    "# unique"
   ],
   "metadata": {
    "collapsed": false,
    "ExecuteTime": {
     "end_time": "2023-09-24T03:28:07.899372Z",
     "start_time": "2023-09-24T03:28:07.894792Z"
    }
   },
   "id": "533767b446fe096"
  },
  {
   "cell_type": "code",
   "execution_count": 71,
   "outputs": [
    {
     "name": "stdout",
     "output_type": "stream",
     "text": [
      "Mean review length: 11.704666666666666\n",
      "Standard deviation of review length: 7.792839940633687\n",
      "Maximum review length: 70\n",
      "Suggested max sequence length: 27\n"
     ]
    }
   ],
   "source": [
    "# Justification of max sequence length\n",
    "\n",
    "df['review_length'] = df['review'].apply(lambda x: len(x.split()))\n",
    "rl_mean = df['review_length'].mean()\n",
    "rl_std = df['review_length'].std()\n",
    "rl_max = df['review_length'].max()\n",
    "\n",
    "print(f\"Mean review length: {rl_mean}\")\n",
    "print(f\"Standard deviation of review length: {rl_std}\")\n",
    "print(f\"Maximum review length: {rl_max}\")\n",
    "\n",
    "# max length that covers around 95% of the dataset\n",
    "cutoff_length = int(rl_mean + 2 * rl_std)\n",
    "print(f\"Suggested max sequence length: {cutoff_length}\")\n"
   ],
   "metadata": {
    "collapsed": false,
    "ExecuteTime": {
     "end_time": "2023-09-24T03:27:59.435506Z",
     "start_time": "2023-09-24T03:27:59.432030Z"
    }
   },
   "id": "1a5bf26dffcdeeaa"
  },
  {
   "cell_type": "code",
   "execution_count": 71,
   "outputs": [],
   "source": [],
   "metadata": {
    "collapsed": false,
    "ExecuteTime": {
     "end_time": "2023-09-24T03:27:59.437733Z",
     "start_time": "2023-09-24T03:27:59.434748Z"
    }
   },
   "id": "25b9b9c3d98d6c0b"
  }
 ],
 "metadata": {
  "kernelspec": {
   "display_name": "Python 3",
   "language": "python",
   "name": "python3"
  },
  "language_info": {
   "codemirror_mode": {
    "name": "ipython",
    "version": 2
   },
   "file_extension": ".py",
   "mimetype": "text/x-python",
   "name": "python",
   "nbconvert_exporter": "python",
   "pygments_lexer": "ipython2",
   "version": "2.7.6"
  }
 },
 "nbformat": 4,
 "nbformat_minor": 5
}
