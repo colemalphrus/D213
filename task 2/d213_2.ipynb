{
 "cells": [
  {
   "cell_type": "markdown",
   "source": [
    "# D213 Task 1 Advanced Data Analytics\n",
    "\n",
    "## Part 1\n",
    "\n",
    "### A1: Research Question and Data Selection\n",
    "\n",
    "Research Question:\n",
    "Is it possible to at accurately determine customer sentiment from a customers review utilizing Natural language processing and nural networks?\n",
    "\n",
    "Data and Rational:\n",
    "The data that will be used for this analysis is \"sentiment labeled sentences\" dataset which can be found at the link bellow. This data set provides a sentence representing a review along with a label of 1 or 0 indicating a positive or negative sentiment respectively\n",
    "\n",
    "\n",
    "https://archive.ics.uci.edu/dataset/331/sentiment+labelled+sentences\n",
    "\n",
    "### A2: Objectives\n",
    "\n",
    "The objective of this analysis is to determine the feasibility of using a natural language processing neural network to determine a customers sentiment based on a review. The determination of feasibility will be made by creating a NLP model using Tensorflow. The objective of this model is to be able to take in the review text data and determine if the review has a positive or negative sentiment. \n",
    "\n",
    "### A3: Neural Network Type\n",
    "\n",
    "# TODO"
   ],
   "metadata": {
    "collapsed": false
   },
   "id": "7a432f0908da7590"
  },
  {
   "cell_type": "markdown",
   "source": [
    "## Part 2\n",
    "\n",
    "### B1: Data Exploration and Cleaning\n",
    "\n",
    "1. Check presence of unusual characters\n",
    "2. Vocabulary size\n",
    "3. proposed word embedding length\n",
    "4. statistical justification for the chosen maximum sequence length\n",
    "\n"
   ],
   "metadata": {
    "collapsed": false
   },
   "id": "d804fcb64e734f34"
  },
  {
   "cell_type": "code",
   "execution_count": 95,
   "outputs": [
    {
     "name": "stderr",
     "output_type": "stream",
     "text": [
      "[nltk_data] Downloading package stopwords to\n",
      "[nltk_data]     /Users/orlandmalphrus/nltk_data...\n",
      "[nltk_data]   Package stopwords is already up-to-date!\n"
     ]
    }
   ],
   "source": [
    "# Import Packages\n",
    "import pandas as pd\n",
    "import numpy as np\n",
    "import nltk\n",
    "from nltk.corpus import stopwords\n",
    "from sklearn.model_selection import train_test_split\n",
    "from tensorflow.keras.preprocessing.text import Tokenizer\n",
    "from tensorflow.keras.preprocessing.sequence import pad_sequences\n",
    "from sklearn.feature_extraction.text import CountVectorizer\n",
    "\n",
    "# Download Stopwords early to avoid rerunning\n",
    "nltk.download('stopwords')\n",
    "stop_words = set(stopwords.words('english'))"
   ],
   "metadata": {
    "collapsed": false,
    "ExecuteTime": {
     "end_time": "2023-09-25T03:48:45.974165Z",
     "start_time": "2023-09-25T03:48:45.868611Z"
    }
   },
   "id": "5abee81299e7824a"
  },
  {
   "cell_type": "code",
   "execution_count": 96,
   "outputs": [
    {
     "name": "stdout",
     "output_type": "stream",
     "text": [
      "Amazon Count: 1000\n",
      "IMDB Count: 1000\n",
      "Yelp Count: 1000\n"
     ]
    },
    {
     "data": {
      "text/plain": "                                              review  score source\n0  So there is no way for me to plug it in here i...      0    amz\n1                        Good case, Excellent value.      1    amz\n2                             Great for the jawbone.      1    amz\n3  Tied to charger for conversations lasting more...      0    amz\n4                                  The mic is great.      1    amz",
      "text/html": "<div>\n<style scoped>\n    .dataframe tbody tr th:only-of-type {\n        vertical-align: middle;\n    }\n\n    .dataframe tbody tr th {\n        vertical-align: top;\n    }\n\n    .dataframe thead th {\n        text-align: right;\n    }\n</style>\n<table border=\"1\" class=\"dataframe\">\n  <thead>\n    <tr style=\"text-align: right;\">\n      <th></th>\n      <th>review</th>\n      <th>score</th>\n      <th>source</th>\n    </tr>\n  </thead>\n  <tbody>\n    <tr>\n      <th>0</th>\n      <td>So there is no way for me to plug it in here i...</td>\n      <td>0</td>\n      <td>amz</td>\n    </tr>\n    <tr>\n      <th>1</th>\n      <td>Good case, Excellent value.</td>\n      <td>1</td>\n      <td>amz</td>\n    </tr>\n    <tr>\n      <th>2</th>\n      <td>Great for the jawbone.</td>\n      <td>1</td>\n      <td>amz</td>\n    </tr>\n    <tr>\n      <th>3</th>\n      <td>Tied to charger for conversations lasting more...</td>\n      <td>0</td>\n      <td>amz</td>\n    </tr>\n    <tr>\n      <th>4</th>\n      <td>The mic is great.</td>\n      <td>1</td>\n      <td>amz</td>\n    </tr>\n  </tbody>\n</table>\n</div>"
     },
     "execution_count": 96,
     "metadata": {},
     "output_type": "execute_result"
    }
   ],
   "source": [
    "# Extract data create combined dataframe and check counts\n",
    "amazon_df = pd.read_csv('./data/amazon_cells_labelled.txt', sep='\\t', names=['review', 'score'])\n",
    "imdb_df = pd.read_csv('./data/imdb_labelled.txt', sep='\\t', names=['review', 'score'])\n",
    "yelp_df = pd.read_csv('./data/yelp_labelled.txt', sep='\\t', names=['review', 'score'])\n",
    "\n",
    "print(f'Amazon Count: {amazon_df.shape[0]}')\n",
    "print(f'IMDB Count: {imdb_df.shape[0]}')\n",
    "print(f'Yelp Count: {yelp_df.shape[0]}')\n",
    "\n",
    "# Label Data Source\n",
    "amazon_df['source'] = 'amz'\n",
    "imdb_df['source'] = 'imdb'\n",
    "yelp_df['source'] = 'yelp'\n",
    "\n",
    "# Join Dataframes \n",
    "df = pd.concat([amazon_df, imdb_df, yelp_df], ignore_index=True)\n",
    "df.head()"
   ],
   "metadata": {
    "collapsed": false,
    "ExecuteTime": {
     "end_time": "2023-09-25T03:48:46.025481Z",
     "start_time": "2023-09-25T03:48:45.876796Z"
    }
   },
   "id": "6129db4b8935b16a"
  },
  {
   "cell_type": "code",
   "execution_count": 97,
   "outputs": [
    {
     "name": "stdout",
     "output_type": "stream",
     "text": [
      "<class 'pandas.core.frame.DataFrame'>\n",
      "RangeIndex: 3000 entries, 0 to 2999\n",
      "Data columns (total 3 columns):\n",
      " #   Column  Non-Null Count  Dtype \n",
      "---  ------  --------------  ----- \n",
      " 0   review  3000 non-null   object\n",
      " 1   score   3000 non-null   int64 \n",
      " 2   source  3000 non-null   object\n",
      "dtypes: int64(1), object(2)\n",
      "memory usage: 70.4+ KB\n"
     ]
    }
   ],
   "source": [
    "df.info()"
   ],
   "metadata": {
    "collapsed": false,
    "ExecuteTime": {
     "end_time": "2023-09-25T03:48:46.025565Z",
     "start_time": "2023-09-25T03:48:45.892355Z"
    }
   },
   "id": "2bb5843d8a8d76fd"
  },
  {
   "cell_type": "code",
   "execution_count": 98,
   "outputs": [
    {
     "name": "stdout",
     "output_type": "stream",
     "text": [
      "All Unique Characters:\n",
      "{'å', 'Z', 'E', 'c', 'o', 'C', '(', 'U', 'Q', 'X', 'V', 'Y', '-', 'a', '1', 'K', 'G', 'b', \"'\", 'M', 'N', 'f', 's', 'm', 'y', ':', '.', ',', 'S', 'j', '6', 'r', 'u', '*', '2', 'R', 'z', 'w', 'I', 'L', 'B', 'F', '\\x97', 'k', 'T', 'W', '\\x85', 'n', 'H', 'D', ']', '5', 'x', 'i', 'd', '8', 'e', ')', 'P', 'J', '/', '3', 't', '\\x96', 'é', 'h', 'g', '$', ';', 'l', 'q', '!', 'O', '7', '+', '0', '\"', '?', '[', ' ', '%', '9', '#', '4', 'v', 'ê', 'p', 'A', '&'}\n"
     ]
    }
   ],
   "source": [
    "# Get all Unique chars from the dataset \n",
    "# Convert all reviews to a single string and then to a set to get unique characters\n",
    "unique_chars = set(''.join(df['review']))\n",
    "print('All Unique Characters:')\n",
    "print(unique_chars)"
   ],
   "metadata": {
    "collapsed": false,
    "ExecuteTime": {
     "end_time": "2023-09-25T03:48:46.025639Z",
     "start_time": "2023-09-25T03:48:45.897604Z"
    }
   },
   "id": "499675515bf4478c"
  },
  {
   "cell_type": "code",
   "execution_count": 99,
   "outputs": [
    {
     "name": "stdout",
     "output_type": "stream",
     "text": [
      "Non alpha numeric characters:\n",
      "['(', '-', \"'\", ':', '.', ',', '*', '\\x97', '\\x85', ']', ')', '/', '\\x96', '$', ';', '!', '+', '\"', '?', '[', ' ', '%', '#', '&']\n"
     ]
    }
   ],
   "source": [
    "non_alpha_numeric_chars = [char for char in unique_chars if not char.isalnum()]\n",
    "print('Non alpha numeric characters:')\n",
    "print(non_alpha_numeric_chars)"
   ],
   "metadata": {
    "collapsed": false,
    "ExecuteTime": {
     "end_time": "2023-09-25T03:48:46.025709Z",
     "start_time": "2023-09-25T03:48:45.901570Z"
    }
   },
   "id": "a20cef73165584a7"
  },
  {
   "cell_type": "code",
   "execution_count": 100,
   "outputs": [
    {
     "data": {
      "text/plain": "                                              review  score source  \\\n0  So there is no way for me to plug it in here i...      0    amz   \n1                        Good case, Excellent value.      1    amz   \n2                             Great for the jawbone.      1    amz   \n3  Tied to charger for conversations lasting more...      0    amz   \n4                                  The mic is great.      1    amz   \n\n                                      cleaned_review  \\\n0  So there is no way for me to plug it in here i...   \n1                          Good case Excellent value   \n2                              Great for the jawbone   \n3  Tied to charger for conversations lasting more...   \n4                                   The mic is great   \n\n                              cleaned_reduced_review  \n0                    way plug US unless go converter  \n1                          Good case Excellent value  \n2                                      Great jawbone  \n3  Tied charger conversations lasting 45 minutesM...  \n4                                          mic great  ",
      "text/html": "<div>\n<style scoped>\n    .dataframe tbody tr th:only-of-type {\n        vertical-align: middle;\n    }\n\n    .dataframe tbody tr th {\n        vertical-align: top;\n    }\n\n    .dataframe thead th {\n        text-align: right;\n    }\n</style>\n<table border=\"1\" class=\"dataframe\">\n  <thead>\n    <tr style=\"text-align: right;\">\n      <th></th>\n      <th>review</th>\n      <th>score</th>\n      <th>source</th>\n      <th>cleaned_review</th>\n      <th>cleaned_reduced_review</th>\n    </tr>\n  </thead>\n  <tbody>\n    <tr>\n      <th>0</th>\n      <td>So there is no way for me to plug it in here i...</td>\n      <td>0</td>\n      <td>amz</td>\n      <td>So there is no way for me to plug it in here i...</td>\n      <td>way plug US unless go converter</td>\n    </tr>\n    <tr>\n      <th>1</th>\n      <td>Good case, Excellent value.</td>\n      <td>1</td>\n      <td>amz</td>\n      <td>Good case Excellent value</td>\n      <td>Good case Excellent value</td>\n    </tr>\n    <tr>\n      <th>2</th>\n      <td>Great for the jawbone.</td>\n      <td>1</td>\n      <td>amz</td>\n      <td>Great for the jawbone</td>\n      <td>Great jawbone</td>\n    </tr>\n    <tr>\n      <th>3</th>\n      <td>Tied to charger for conversations lasting more...</td>\n      <td>0</td>\n      <td>amz</td>\n      <td>Tied to charger for conversations lasting more...</td>\n      <td>Tied charger conversations lasting 45 minutesM...</td>\n    </tr>\n    <tr>\n      <th>4</th>\n      <td>The mic is great.</td>\n      <td>1</td>\n      <td>amz</td>\n      <td>The mic is great</td>\n      <td>mic great</td>\n    </tr>\n  </tbody>\n</table>\n</div>"
     },
     "execution_count": 100,
     "metadata": {},
     "output_type": "execute_result"
    }
   ],
   "source": [
    "# Remove non-alphanumeric chars\n",
    "df['cleaned_review'] = df['review'].apply(lambda x: ''.join([char for char in x if char.isalnum() or char.isspace()]))\n",
    "# Remove stopwords\n",
    "df['cleaned_reduced_review'] = df['cleaned_review'].apply(lambda x: ' '.join([word for word in x.split() if word.lower() not in stop_words]))\n",
    "\n",
    "df.head()"
   ],
   "metadata": {
    "collapsed": false,
    "ExecuteTime": {
     "end_time": "2023-09-25T03:48:46.025898Z",
     "start_time": "2023-09-25T03:48:45.904407Z"
    }
   },
   "id": "ba493c94854dff61"
  },
  {
   "cell_type": "code",
   "execution_count": 101,
   "outputs": [
    {
     "name": "stdout",
     "output_type": "stream",
     "text": [
      "Vocabulary size: 5276\n"
     ]
    }
   ],
   "source": [
    "# Vocabulary Size\n",
    "all_words = ' '.join(df['cleaned_reduced_review']).lower().split()\n",
    "vocabulary = set(all_words)\n",
    "vocabulary_size =  len(vocabulary)\n",
    "print(f\"Vocabulary size: {vocabulary_size}\")"
   ],
   "metadata": {
    "collapsed": false,
    "ExecuteTime": {
     "end_time": "2023-09-25T03:48:46.025984Z",
     "start_time": "2023-09-25T03:48:45.933310Z"
    }
   },
   "id": "530926871244443c"
  },
  {
   "cell_type": "code",
   "execution_count": 102,
   "outputs": [
    {
     "name": "stdout",
     "output_type": "stream",
     "text": [
      "Proposed embedding length: 9\n"
     ]
    }
   ],
   "source": [
    "# Proposed word embedding length. Based on an industry rule of thumb for embeddings taking a forth root (Goldman, 2019)\n",
    "proposed_embedding_length = round(vocabulary_size ** .25)\n",
    "print(f\"Proposed embedding length: {proposed_embedding_length}\")"
   ],
   "metadata": {
    "collapsed": false,
    "ExecuteTime": {
     "end_time": "2023-09-25T03:48:46.026069Z",
     "start_time": "2023-09-25T03:48:45.935997Z"
    }
   },
   "id": "54e323678f716359"
  },
  {
   "cell_type": "code",
   "execution_count": 103,
   "outputs": [
    {
     "name": "stdout",
     "output_type": "stream",
     "text": [
      "Mean clean_review_length: 11.777666666666667\n",
      "Standard deviation of clean_review_length: 7.8309221893934255\n",
      "Maximum clean_review_length: 70\n",
      "Suggested max sequence length: 27\n"
     ]
    }
   ],
   "source": [
    "# Justification of max sequence length\n",
    "df['cleaned_review_length'] = df['cleaned_review'].apply(lambda x: len(x.split()))\n",
    "clean_review_length_mean = df['cleaned_review_length'].mean()\n",
    "clean_review_length_std = df['cleaned_review_length'].std()\n",
    "clean_review_length_max = df['cleaned_review_length'].max()\n",
    "\n",
    "print(f\"Mean clean_review_length: {clean_review_length_mean}\")\n",
    "print(f\"Standard deviation of clean_review_length: {clean_review_length_std}\")\n",
    "print(f\"Maximum clean_review_length: {clean_review_length_max}\")\n",
    "\n",
    "# max length that covers around 95% of the dataset\n",
    "cutoff_length = int(clean_review_length_mean + 2 * clean_review_length_std)\n",
    "print(f\"Suggested max sequence length: {cutoff_length}\")\n"
   ],
   "metadata": {
    "collapsed": false,
    "ExecuteTime": {
     "end_time": "2023-09-25T03:48:46.026136Z",
     "start_time": "2023-09-25T03:48:45.941970Z"
    }
   },
   "id": "1a5bf26dffcdeeaa"
  },
  {
   "cell_type": "code",
   "execution_count": 104,
   "outputs": [],
   "source": [
    "# Test train split\n",
    "train_df, test_df = train_test_split(df, test_size=0.2, random_state=2)"
   ],
   "metadata": {
    "collapsed": false,
    "ExecuteTime": {
     "end_time": "2023-09-25T03:48:46.026179Z",
     "start_time": "2023-09-25T03:48:45.944957Z"
    }
   },
   "id": "176ac1e539b6e5"
  },
  {
   "cell_type": "markdown",
   "source": [
    "### B2: Tokenization\n",
    "\n",
    "The goal of tokenization is to break down words or groups of words into numerical representations that are easily consumed by machines. The tokenizer this analysis employees is from the tensorflow keras library. The output of the tokenization process is an array of integers that can be used for further analysis."
   ],
   "metadata": {
    "collapsed": false
   },
   "id": "f43cc954a0476f6b"
  },
  {
   "cell_type": "code",
   "execution_count": 105,
   "outputs": [],
   "source": [
    "tokenizer = Tokenizer(oov_token='OOV')\n",
    "tokenizer.fit_on_texts(train_df['cleaned_reduced_review'])\n",
    "train_df['tokens'] = tokenizer.texts_to_sequences(train_df['cleaned_reduced_review'])\n",
    "test_df['tokens'] = tokenizer.texts_to_sequences(test_df['cleaned_reduced_review'])"
   ],
   "metadata": {
    "collapsed": false,
    "ExecuteTime": {
     "end_time": "2023-09-25T03:48:46.029Z",
     "start_time": "2023-09-25T03:48:45.982706Z"
    }
   },
   "id": "f07924fa8721ecef"
  },
  {
   "cell_type": "code",
   "execution_count": 106,
   "outputs": [
    {
     "data": {
      "text/plain": "                                 cleaned_reduced_review  \\\n2369                                   deserves 5 stars   \n1164  good thing tickets cost five dollars would mad...   \n477     volume switch rocketed unit destination unknown   \n1728                   nice relaxing late night viewing   \n1065  One character totally annoying voice gives fee...   \n...                                                 ...   \n2514                           Everything perfect night   \n2347  Classywarm atmosphere fun fresh appetizers suc...   \n1608                         accents absolutely abysmal   \n2541  waited thirty minutes seated although 8 vacant...   \n2575              pizza tasted old super chewy good way   \n\n                                                 tokens  score  \n2369                                    [617, 180, 181]      1  \n1164  [2, 56, 1791, 618, 619, 1119, 16, 1792, 233, 6...      0  \n477                  [259, 1794, 1795, 328, 1796, 1797]      0  \n1728                        [30, 1798, 1120, 142, 1121]      1  \n1065      [7, 126, 114, 508, 329, 621, 203, 1799, 1800]      0  \n...                                                 ...    ...  \n2514                                     [67, 198, 142]      1  \n2347  [4612, 374, 273, 153, 1726, 4613, 738, 4614, 169]      1  \n1608                                  [4615, 137, 4616]      0  \n2541  [365, 4617, 83, 759, 394, 611, 4618, 598, 629,...      0  \n2575                   [191, 410, 173, 357, 860, 2, 44]      0  \n\n[2400 rows x 3 columns]",
      "text/html": "<div>\n<style scoped>\n    .dataframe tbody tr th:only-of-type {\n        vertical-align: middle;\n    }\n\n    .dataframe tbody tr th {\n        vertical-align: top;\n    }\n\n    .dataframe thead th {\n        text-align: right;\n    }\n</style>\n<table border=\"1\" class=\"dataframe\">\n  <thead>\n    <tr style=\"text-align: right;\">\n      <th></th>\n      <th>cleaned_reduced_review</th>\n      <th>tokens</th>\n      <th>score</th>\n    </tr>\n  </thead>\n  <tbody>\n    <tr>\n      <th>2369</th>\n      <td>deserves 5 stars</td>\n      <td>[617, 180, 181]</td>\n      <td>1</td>\n    </tr>\n    <tr>\n      <th>1164</th>\n      <td>good thing tickets cost five dollars would mad...</td>\n      <td>[2, 56, 1791, 618, 619, 1119, 16, 1792, 233, 6...</td>\n      <td>0</td>\n    </tr>\n    <tr>\n      <th>477</th>\n      <td>volume switch rocketed unit destination unknown</td>\n      <td>[259, 1794, 1795, 328, 1796, 1797]</td>\n      <td>0</td>\n    </tr>\n    <tr>\n      <th>1728</th>\n      <td>nice relaxing late night viewing</td>\n      <td>[30, 1798, 1120, 142, 1121]</td>\n      <td>1</td>\n    </tr>\n    <tr>\n      <th>1065</th>\n      <td>One character totally annoying voice gives fee...</td>\n      <td>[7, 126, 114, 508, 329, 621, 203, 1799, 1800]</td>\n      <td>0</td>\n    </tr>\n    <tr>\n      <th>...</th>\n      <td>...</td>\n      <td>...</td>\n      <td>...</td>\n    </tr>\n    <tr>\n      <th>2514</th>\n      <td>Everything perfect night</td>\n      <td>[67, 198, 142]</td>\n      <td>1</td>\n    </tr>\n    <tr>\n      <th>2347</th>\n      <td>Classywarm atmosphere fun fresh appetizers suc...</td>\n      <td>[4612, 374, 273, 153, 1726, 4613, 738, 4614, 169]</td>\n      <td>1</td>\n    </tr>\n    <tr>\n      <th>1608</th>\n      <td>accents absolutely abysmal</td>\n      <td>[4615, 137, 4616]</td>\n      <td>0</td>\n    </tr>\n    <tr>\n      <th>2541</th>\n      <td>waited thirty minutes seated although 8 vacant...</td>\n      <td>[365, 4617, 83, 759, 394, 611, 4618, 598, 629,...</td>\n      <td>0</td>\n    </tr>\n    <tr>\n      <th>2575</th>\n      <td>pizza tasted old super chewy good way</td>\n      <td>[191, 410, 173, 357, 860, 2, 44]</td>\n      <td>0</td>\n    </tr>\n  </tbody>\n</table>\n<p>2400 rows × 3 columns</p>\n</div>"
     },
     "execution_count": 106,
     "metadata": {},
     "output_type": "execute_result"
    }
   ],
   "source": [
    "train_df[['cleaned_reduced_review' ,'tokens', 'score']]"
   ],
   "metadata": {
    "collapsed": false,
    "ExecuteTime": {
     "end_time": "2023-09-25T03:48:46.029355Z",
     "start_time": "2023-09-25T03:48:45.988704Z"
    }
   },
   "id": "435e2a848701072"
  },
  {
   "cell_type": "code",
   "execution_count": 107,
   "outputs": [
    {
     "data": {
      "text/plain": "                                 cleaned_reduced_review  \\\n1291                                        Rating 1 10   \n595                              possesed get junk idea   \n236                               best bluetooth market   \n2824                                      Awful service   \n1290                                     Camerawork bad   \n...                                                 ...   \n2236  descriptions said yum yum sauce another said e...   \n1448                              810 score mostly plot   \n1189                           excellent performance Ms   \n8                             Needless say wasted money   \n310                        good battery got really fast   \n\n                                                 tokens  score  \n1291                                    [625, 225, 132]      0  \n595                                  [1, 35, 562, 1012]      0  \n236                                      [22, 229, 898]      1  \n2824                                          [149, 13]      0  \n1290                                         [2909, 14]      0  \n...                                                 ...    ...  \n2236  [1, 212, 1, 1, 420, 154, 212, 1, 420, 352, 154...      0  \n1448                                 [1, 4472, 510, 87]      1  \n1189                                    [39, 204, 4321]      1  \n8                                   [1266, 58, 409, 89]      0  \n310                                [2, 47, 51, 12, 235]      1  \n\n[600 rows x 3 columns]",
      "text/html": "<div>\n<style scoped>\n    .dataframe tbody tr th:only-of-type {\n        vertical-align: middle;\n    }\n\n    .dataframe tbody tr th {\n        vertical-align: top;\n    }\n\n    .dataframe thead th {\n        text-align: right;\n    }\n</style>\n<table border=\"1\" class=\"dataframe\">\n  <thead>\n    <tr style=\"text-align: right;\">\n      <th></th>\n      <th>cleaned_reduced_review</th>\n      <th>tokens</th>\n      <th>score</th>\n    </tr>\n  </thead>\n  <tbody>\n    <tr>\n      <th>1291</th>\n      <td>Rating 1 10</td>\n      <td>[625, 225, 132]</td>\n      <td>0</td>\n    </tr>\n    <tr>\n      <th>595</th>\n      <td>possesed get junk idea</td>\n      <td>[1, 35, 562, 1012]</td>\n      <td>0</td>\n    </tr>\n    <tr>\n      <th>236</th>\n      <td>best bluetooth market</td>\n      <td>[22, 229, 898]</td>\n      <td>1</td>\n    </tr>\n    <tr>\n      <th>2824</th>\n      <td>Awful service</td>\n      <td>[149, 13]</td>\n      <td>0</td>\n    </tr>\n    <tr>\n      <th>1290</th>\n      <td>Camerawork bad</td>\n      <td>[2909, 14]</td>\n      <td>0</td>\n    </tr>\n    <tr>\n      <th>...</th>\n      <td>...</td>\n      <td>...</td>\n      <td>...</td>\n    </tr>\n    <tr>\n      <th>2236</th>\n      <td>descriptions said yum yum sauce another said e...</td>\n      <td>[1, 212, 1, 1, 420, 154, 212, 1, 420, 352, 154...</td>\n      <td>0</td>\n    </tr>\n    <tr>\n      <th>1448</th>\n      <td>810 score mostly plot</td>\n      <td>[1, 4472, 510, 87]</td>\n      <td>1</td>\n    </tr>\n    <tr>\n      <th>1189</th>\n      <td>excellent performance Ms</td>\n      <td>[39, 204, 4321]</td>\n      <td>1</td>\n    </tr>\n    <tr>\n      <th>8</th>\n      <td>Needless say wasted money</td>\n      <td>[1266, 58, 409, 89]</td>\n      <td>0</td>\n    </tr>\n    <tr>\n      <th>310</th>\n      <td>good battery got really fast</td>\n      <td>[2, 47, 51, 12, 235]</td>\n      <td>1</td>\n    </tr>\n  </tbody>\n</table>\n<p>600 rows × 3 columns</p>\n</div>"
     },
     "execution_count": 107,
     "metadata": {},
     "output_type": "execute_result"
    }
   ],
   "source": [
    "test_df[['cleaned_reduced_review' ,'tokens', 'score']]"
   ],
   "metadata": {
    "collapsed": false,
    "ExecuteTime": {
     "end_time": "2023-09-25T03:48:46.029573Z",
     "start_time": "2023-09-25T03:48:45.995590Z"
    }
   },
   "id": "a2a9230d2f2500f4"
  },
  {
   "cell_type": "markdown",
   "source": [
    "### B3: Padding Process\n",
    "\n",
    "The padding process takes advantage of the Keras `pad_sequences` function. This function takes in an array of tokens and applies padding. Padding is necessary to ensure the machine has inputs of the same shape(length). By setting `padding` and `truncating` to 'post' the function will ensure that padding or truncation is applied to the end of the sequence. By setting `maxlen` to the cutoff established earlier in this analysis (27) the function will truncate records to this length. This introduces a serious tradeoff between the potential loss of information and computational efficiency. With this in mind this analysis uses a cutoff that is equal to two times the standard deviation sequence length. This should ensure that 95% the data is preserved while avoiding excessive padding."
   ],
   "metadata": {
    "collapsed": false
   },
   "id": "346c7d01bb430435"
  },
  {
   "cell_type": "code",
   "execution_count": 108,
   "outputs": [
    {
     "name": "stdout",
     "output_type": "stream",
     "text": [
      "Cutoff: 27\n"
     ]
    }
   ],
   "source": [
    "print(f'Cutoff: {cutoff_length}')"
   ],
   "metadata": {
    "collapsed": false,
    "ExecuteTime": {
     "end_time": "2023-09-25T03:48:46.029757Z",
     "start_time": "2023-09-25T03:48:46.000520Z"
    }
   },
   "id": "38706f51c94ccac1"
  },
  {
   "cell_type": "code",
   "execution_count": 109,
   "outputs": [
    {
     "data": {
      "text/plain": "                                          padded_tokens              tokens  \\\n1291  [625, 225, 132, 0, 0, 0, 0, 0, 0, 0, 0, 0, 0, ...     [625, 225, 132]   \n595   [1, 35, 562, 1012, 0, 0, 0, 0, 0, 0, 0, 0, 0, ...  [1, 35, 562, 1012]   \n236   [22, 229, 898, 0, 0, 0, 0, 0, 0, 0, 0, 0, 0, 0...      [22, 229, 898]   \n2824  [149, 13, 0, 0, 0, 0, 0, 0, 0, 0, 0, 0, 0, 0, ...           [149, 13]   \n1290  [2909, 14, 0, 0, 0, 0, 0, 0, 0, 0, 0, 0, 0, 0,...          [2909, 14]   \n\n      score  \n1291      0  \n595       0  \n236       1  \n2824      0  \n1290      0  ",
      "text/html": "<div>\n<style scoped>\n    .dataframe tbody tr th:only-of-type {\n        vertical-align: middle;\n    }\n\n    .dataframe tbody tr th {\n        vertical-align: top;\n    }\n\n    .dataframe thead th {\n        text-align: right;\n    }\n</style>\n<table border=\"1\" class=\"dataframe\">\n  <thead>\n    <tr style=\"text-align: right;\">\n      <th></th>\n      <th>padded_tokens</th>\n      <th>tokens</th>\n      <th>score</th>\n    </tr>\n  </thead>\n  <tbody>\n    <tr>\n      <th>1291</th>\n      <td>[625, 225, 132, 0, 0, 0, 0, 0, 0, 0, 0, 0, 0, ...</td>\n      <td>[625, 225, 132]</td>\n      <td>0</td>\n    </tr>\n    <tr>\n      <th>595</th>\n      <td>[1, 35, 562, 1012, 0, 0, 0, 0, 0, 0, 0, 0, 0, ...</td>\n      <td>[1, 35, 562, 1012]</td>\n      <td>0</td>\n    </tr>\n    <tr>\n      <th>236</th>\n      <td>[22, 229, 898, 0, 0, 0, 0, 0, 0, 0, 0, 0, 0, 0...</td>\n      <td>[22, 229, 898]</td>\n      <td>1</td>\n    </tr>\n    <tr>\n      <th>2824</th>\n      <td>[149, 13, 0, 0, 0, 0, 0, 0, 0, 0, 0, 0, 0, 0, ...</td>\n      <td>[149, 13]</td>\n      <td>0</td>\n    </tr>\n    <tr>\n      <th>1290</th>\n      <td>[2909, 14, 0, 0, 0, 0, 0, 0, 0, 0, 0, 0, 0, 0,...</td>\n      <td>[2909, 14]</td>\n      <td>0</td>\n    </tr>\n  </tbody>\n</table>\n</div>"
     },
     "execution_count": 109,
     "metadata": {},
     "output_type": "execute_result"
    }
   ],
   "source": [
    "train_df['padded_tokens'] = list(pad_sequences(train_df['tokens'].tolist(), padding='post', maxlen=cutoff_length, truncating='post'))\n",
    "test_df['padded_tokens'] = list(pad_sequences(test_df['tokens'].tolist(), padding='post', maxlen=cutoff_length, truncating='post'))\n",
    "\n",
    "test_df[['padded_tokens' ,'tokens', 'score']].head()"
   ],
   "metadata": {
    "collapsed": false,
    "ExecuteTime": {
     "end_time": "2023-09-25T03:48:46.029976Z",
     "start_time": "2023-09-25T03:48:46.003731Z"
    }
   },
   "id": "cdf92106fd3fc237"
  },
  {
   "cell_type": "code",
   "execution_count": 110,
   "outputs": [
    {
     "data": {
      "text/plain": "                                          padded_tokens  \\\n2369  [617, 180, 181, 0, 0, 0, 0, 0, 0, 0, 0, 0, 0, ...   \n1164  [2, 56, 1791, 618, 619, 1119, 16, 1792, 233, 6...   \n477   [259, 1794, 1795, 328, 1796, 1797, 0, 0, 0, 0,...   \n1728  [30, 1798, 1120, 142, 1121, 0, 0, 0, 0, 0, 0, ...   \n1065  [7, 126, 114, 508, 329, 621, 203, 1799, 1800, ...   \n\n                                                 tokens  score  \n2369                                    [617, 180, 181]      1  \n1164  [2, 56, 1791, 618, 619, 1119, 16, 1792, 233, 6...      0  \n477                  [259, 1794, 1795, 328, 1796, 1797]      0  \n1728                        [30, 1798, 1120, 142, 1121]      1  \n1065      [7, 126, 114, 508, 329, 621, 203, 1799, 1800]      0  ",
      "text/html": "<div>\n<style scoped>\n    .dataframe tbody tr th:only-of-type {\n        vertical-align: middle;\n    }\n\n    .dataframe tbody tr th {\n        vertical-align: top;\n    }\n\n    .dataframe thead th {\n        text-align: right;\n    }\n</style>\n<table border=\"1\" class=\"dataframe\">\n  <thead>\n    <tr style=\"text-align: right;\">\n      <th></th>\n      <th>padded_tokens</th>\n      <th>tokens</th>\n      <th>score</th>\n    </tr>\n  </thead>\n  <tbody>\n    <tr>\n      <th>2369</th>\n      <td>[617, 180, 181, 0, 0, 0, 0, 0, 0, 0, 0, 0, 0, ...</td>\n      <td>[617, 180, 181]</td>\n      <td>1</td>\n    </tr>\n    <tr>\n      <th>1164</th>\n      <td>[2, 56, 1791, 618, 619, 1119, 16, 1792, 233, 6...</td>\n      <td>[2, 56, 1791, 618, 619, 1119, 16, 1792, 233, 6...</td>\n      <td>0</td>\n    </tr>\n    <tr>\n      <th>477</th>\n      <td>[259, 1794, 1795, 328, 1796, 1797, 0, 0, 0, 0,...</td>\n      <td>[259, 1794, 1795, 328, 1796, 1797]</td>\n      <td>0</td>\n    </tr>\n    <tr>\n      <th>1728</th>\n      <td>[30, 1798, 1120, 142, 1121, 0, 0, 0, 0, 0, 0, ...</td>\n      <td>[30, 1798, 1120, 142, 1121]</td>\n      <td>1</td>\n    </tr>\n    <tr>\n      <th>1065</th>\n      <td>[7, 126, 114, 508, 329, 621, 203, 1799, 1800, ...</td>\n      <td>[7, 126, 114, 508, 329, 621, 203, 1799, 1800]</td>\n      <td>0</td>\n    </tr>\n  </tbody>\n</table>\n</div>"
     },
     "execution_count": 110,
     "metadata": {},
     "output_type": "execute_result"
    }
   ],
   "source": [
    "train_df[['padded_tokens' ,'tokens', 'score']].head()"
   ],
   "metadata": {
    "collapsed": false,
    "ExecuteTime": {
     "end_time": "2023-09-25T03:48:46.037653Z",
     "start_time": "2023-09-25T03:48:46.017445Z"
    }
   },
   "id": "882bb8c2aa8d3272"
  },
  {
   "cell_type": "code",
   "execution_count": 111,
   "outputs": [
    {
     "name": "stdout",
     "output_type": "stream",
     "text": [
      "[44, 301, 98, 446, 25, 3566, 0, 0, 0, 0, 0, 0, 0, 0, 0, 0, 0, 0, 0, 0, 0, 0, 0, 0, 0, 0, 0]\n"
     ]
    }
   ],
   "source": [
    "# Printing one example of a padded token array\n",
    "\n",
    "print(train_df['padded_tokens'][0].tolist())"
   ],
   "metadata": {
    "collapsed": false,
    "ExecuteTime": {
     "end_time": "2023-09-25T03:48:46.037784Z",
     "start_time": "2023-09-25T03:48:46.020565Z"
    }
   },
   "id": "1fe279bca4ca1e56"
  },
  {
   "cell_type": "markdown",
   "source": [
    "### B4: Categories of Sentiment\n",
    "\n",
    "There are two categories of sentiment in this analysis `positive` represented by 1 and `negative` represented by 0. Due to the binary nature of target categories a sigmoid activation function will be used in this analysis. The sigmoid function will output a value between 0 and 1 which will represent the probability of a review is positive and therefore the inverse will show the probability the review is negative. \n",
    "\n",
    "### B5: Data Preparation Steps\n",
    "\n",
    "1. **Loading of Tools and Stopwords**: At the beginning of this analysis we load all needed tools. Loading of stopwords is included in tool import as it contains time-consuming network activity.\n",
    "2.  **Data loading**: The yelp, imdb and amazon data is loaded from tab separated files. These three datasets provide the reviews for the sentiment analysis.\n",
    "3. **Join Data Sources and Review Counts**: To ensure the data loaded properly counts are examined for each of the three datasets. After confirming that the counts match the datasets are joined into one main dataframe `df`.\n",
    "4. **Data Summary**: Data info summery is produced using pandas dataframe builtin info method.\n",
    "5. **Handling of unusual characters and punctuation**: A set is produced containing all unique characters within the dataset. The presence of non-standard characters was confirmed by visualizing the character set. Non-standard characters were removed along with all punctuation by only retaining alphanumeric characters. This reduces potential complexity, and potential noise from the analysis.\n",
    "6. **Removal of Stopwords**: Stopwords are removed using NLTK's set of words that are so commonly used that there presence is unlikely to add value to the analysis.\n",
    "7. **Vocabulary Size Determination**:  The vocabulary size is determined by taking the count of unique words present in the cleaned reduced review set.\n",
    "8. **Word Embedding Length Determination**: The word embedding length was determined using an industry rule of thumb by taking a forth root of the vocabulary size(Goldman, 2019).\n",
    "9. **Max sequence length Determination**: The max sequence length was determined by using statistical measures to produce a cutoff that would preserve 95% of the dataset while still providing a reasonable cutoff.\n",
    "10. **Splitting test and train data**: The dataset was then split into a training data set that consisted of 80% of the records and a test set consisting of the remaining 20%. Sklearn provided the train_test_split function that was used in this process.\n",
    "11. \n",
    "\n",
    "\n",
    "### B6: Cleaned Data Set\n",
    "\n",
    "Attached to submission"
   ],
   "metadata": {
    "collapsed": false
   },
   "id": "a166dad6d3684002"
  },
  {
   "cell_type": "code",
   "execution_count": 112,
   "outputs": [],
   "source": [
    "df.to_csv('./full_data_set.csv')\n",
    "test_df.to_csv('./test_data_set.csv')\n",
    "train_df.to_csv('./train_data_set.csv')"
   ],
   "metadata": {
    "collapsed": false,
    "ExecuteTime": {
     "end_time": "2023-09-25T03:48:46.292778Z",
     "start_time": "2023-09-25T03:48:46.023636Z"
    }
   },
   "id": "261a9874ed4a830c"
  },
  {
   "cell_type": "code",
   "execution_count": 112,
   "outputs": [],
   "source": [],
   "metadata": {
    "collapsed": false,
    "ExecuteTime": {
     "end_time": "2023-09-25T03:48:46.298301Z",
     "start_time": "2023-09-25T03:48:46.156309Z"
    }
   },
   "id": "d92b50402f866fb0"
  }
 ],
 "metadata": {
  "kernelspec": {
   "display_name": "Python 3",
   "language": "python",
   "name": "python3"
  },
  "language_info": {
   "codemirror_mode": {
    "name": "ipython",
    "version": 2
   },
   "file_extension": ".py",
   "mimetype": "text/x-python",
   "name": "python",
   "nbconvert_exporter": "python",
   "pygments_lexer": "ipython2",
   "version": "2.7.6"
  }
 },
 "nbformat": 4,
 "nbformat_minor": 5
}
